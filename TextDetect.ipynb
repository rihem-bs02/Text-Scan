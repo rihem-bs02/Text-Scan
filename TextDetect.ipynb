{
 "cells": [
  {
   "cell_type": "code",
   "execution_count": 9,
   "metadata": {},
   "outputs": [
    {
     "name": "stdout",
     "output_type": "stream",
     "text": [
      "Note: you may need to restart the kernel to use updated packages.Collecting easyocr\n",
      "  Using cached easyocr-1.7.1-py3-none-any.whl.metadata (11 kB)\n",
      "Collecting torch (from easyocr)\n",
      "  Using cached torch-2.3.1-cp311-cp311-win_amd64.whl.metadata (26 kB)\n",
      "Collecting torchvision>=0.5 (from easyocr)\n",
      "  Using cached torchvision-0.18.1-cp311-cp311-win_amd64.whl.metadata (6.6 kB)\n",
      "Collecting opencv-python-headless (from easyocr)\n",
      "  Using cached opencv_python_headless-4.10.0.84-cp37-abi3-win_amd64.whl.metadata (20 kB)\n",
      "Requirement already satisfied: scipy in c:\\users\\rihem\\appdata\\local\\programs\\python\\python311\\lib\\site-packages (from easyocr) (1.12.0)\n",
      "Requirement already satisfied: numpy in c:\\users\\rihem\\appdata\\local\\programs\\python\\python311\\lib\\site-packages (from easyocr) (1.26.4)\n",
      "Requirement already satisfied: Pillow in c:\\users\\rihem\\appdata\\local\\programs\\python\\python311\\lib\\site-packages (from easyocr) (10.2.0)\n",
      "Collecting scikit-image (from easyocr)\n",
      "  Using cached scikit_image-0.24.0-cp311-cp311-win_amd64.whl.metadata (14 kB)\n",
      "Requirement already satisfied: python-bidi in c:\\users\\rihem\\appdata\\local\\programs\\python\\python311\\lib\\site-packages (from easyocr) (0.4.2)\n",
      "Requirement already satisfied: PyYAML in c:\\users\\rihem\\appdata\\local\\programs\\python\\python311\\lib\\site-packages (from easyocr) (6.0.1)\n",
      "Requirement already satisfied: Shapely in c:\\users\\rihem\\appdata\\local\\programs\\python\\python311\\lib\\site-packages (from easyocr) (2.0.4)\n",
      "Requirement already satisfied: pyclipper in c:\\users\\rihem\\appdata\\local\\programs\\python\\python311\\lib\\site-packages (from easyocr) (1.3.0.post5)\n",
      "Requirement already satisfied: ninja in c:\\users\\rihem\\appdata\\local\\programs\\python\\python311\\lib\\site-packages (from easyocr) (1.11.1.1)\n",
      "Requirement already satisfied: filelock in c:\\users\\rihem\\appdata\\local\\programs\\python\\python311\\lib\\site-packages (from torch->easyocr) (3.13.1)\n",
      "Requirement already satisfied: typing-extensions>=4.8.0 in c:\\users\\rihem\\appdata\\local\\programs\\python\\python311\\lib\\site-packages (from torch->easyocr) (4.9.0)\n",
      "Requirement already satisfied: sympy in c:\\users\\rihem\\appdata\\local\\programs\\python\\python311\\lib\\site-packages (from torch->easyocr) (1.12.1)\n",
      "Collecting networkx (from torch->easyocr)\n",
      "  Using cached networkx-3.3-py3-none-any.whl.metadata (5.1 kB)\n",
      "Requirement already satisfied: jinja2 in c:\\users\\rihem\\appdata\\local\\programs\\python\\python311\\lib\\site-packages (from torch->easyocr) (3.1.3)\n",
      "Collecting fsspec (from torch->easyocr)\n",
      "  Using cached fsspec-2024.6.1-py3-none-any.whl.metadata (11 kB)\n",
      "Collecting mkl<=2021.4.0,>=2021.1.1 (from torch->easyocr)\n",
      "  Using cached mkl-2021.4.0-py2.py3-none-win_amd64.whl.metadata (1.4 kB)\n",
      "Requirement already satisfied: six in c:\\users\\rihem\\appdata\\local\\programs\\python\\python311\\lib\\site-packages (from python-bidi->easyocr) (1.16.0)\n",
      "Requirement already satisfied: imageio>=2.33 in c:\\users\\rihem\\appdata\\local\\programs\\python\\python311\\lib\\site-packages (from scikit-image->easyocr) (2.34.0)\n",
      "Requirement already satisfied: tifffile>=2022.8.12 in c:\\users\\rihem\\appdata\\local\\programs\\python\\python311\\lib\\site-packages (from scikit-image->easyocr) (2024.6.18)\n",
      "Requirement already satisfied: packaging>=21 in c:\\users\\rihem\\appdata\\local\\programs\\python\\python311\\lib\\site-packages (from scikit-image->easyocr) (23.2)\n",
      "Collecting lazy-loader>=0.4 (from scikit-image->easyocr)\n",
      "  Using cached lazy_loader-0.4-py3-none-any.whl.metadata (7.6 kB)\n",
      "Requirement already satisfied: intel-openmp==2021.* in c:\\users\\rihem\\appdata\\local\\programs\\python\\python311\\lib\\site-packages (from mkl<=2021.4.0,>=2021.1.1->torch->easyocr) (2021.4.0)\n",
      "Requirement already satisfied: tbb==2021.* in c:\\users\\rihem\\appdata\\local\\programs\\python\\python311\\lib\\site-packages (from mkl<=2021.4.0,>=2021.1.1->torch->easyocr) (2021.13.0)\n",
      "Requirement already satisfied: MarkupSafe>=2.0 in c:\\users\\rihem\\appdata\\local\\programs\\python\\python311\\lib\\site-packages (from jinja2->torch->easyocr) (2.1.5)\n",
      "Requirement already satisfied: mpmath<1.4.0,>=1.1.0 in c:\\users\\rihem\\appdata\\local\\programs\\python\\python311\\lib\\site-packages (from sympy->torch->easyocr) (1.3.0)\n",
      "Using cached easyocr-1.7.1-py3-none-any.whl (2.9 MB)\n",
      "Using cached torchvision-0.18.1-cp311-cp311-win_amd64.whl (1.2 MB)\n",
      "Using cached torch-2.3.1-cp311-cp311-win_amd64.whl (159.8 MB)\n",
      "Using cached opencv_python_headless-4.10.0.84-cp37-abi3-win_amd64.whl (38.8 MB)\n",
      "Using cached scikit_image-0.24.0-cp311-cp311-win_amd64.whl (12.8 MB)\n",
      "Using cached lazy_loader-0.4-py3-none-any.whl (12 kB)\n",
      "Using cached mkl-2021.4.0-py2.py3-none-win_amd64.whl (228.5 MB)\n",
      "Using cached networkx-3.3-py3-none-any.whl (1.7 MB)\n",
      "Using cached fsspec-2024.6.1-py3-none-any.whl (177 kB)\n",
      "Installing collected packages: opencv-python-headless, networkx, mkl, lazy-loader, fsspec, torch, scikit-image, torchvision, easyocr\n",
      "\n"
     ]
    },
    {
     "name": "stderr",
     "output_type": "stream",
     "text": [
      "DEPRECATION: Loading egg at c:\\users\\rihem\\appdata\\local\\programs\\python\\python311\\lib\\site-packages\\deepface-0.0.86-py3.11.egg is deprecated. pip 24.3 will enforce this behaviour change. A possible replacement is to use pip for package installation. Discussion can be found at https://github.com/pypa/pip/issues/12330\n",
      "ERROR: Could not install packages due to an OSError: [WinError 5] Accès refusé: 'c:\\\\Users\\\\rihem\\\\AppData\\\\Local\\\\Programs\\\\Python\\\\Python311\\\\Lib\\\\site-packages\\\\cv2\\\\cv2.pyd'\n",
      "Consider using the `--user` option or check the permissions.\n",
      "\n"
     ]
    }
   ],
   "source": [
    "pip install easyocr\n"
   ]
  },
  {
   "cell_type": "code",
   "execution_count": 15,
   "metadata": {},
   "outputs": [
    {
     "name": "stderr",
     "output_type": "stream",
     "text": [
      "Neither CUDA nor MPS are available - defaulting to CPU. Note: This module is much faster with a GPU.\n"
     ]
    },
    {
     "name": "stdout",
     "output_type": "stream",
     "text": [
      "Extracted Text:\n",
      "    7157  JGH\n"
     ]
    }
   ],
   "source": [
    "import cv2\n",
    "import easyocr\n",
    "import numpy as np\n",
    "\n",
    "# Initialize EasyOCR \n",
    "reader = easyocr.Reader(['en','ar'])  # Specify the languages you want to use\n",
    "\n",
    "\n",
    "image_path = 'C:/Users/rihem/Desktop/handdistanceProject/images/test7.jpg'\n",
    "image = cv2.imread(image_path)\n",
    "\n",
    "\n",
    "gray = cv2.cvtColor(image, cv2.COLOR_BGR2GRAY)\n",
    "\n",
    "# improve OCR accuracy\n",
    "gray = cv2.medianBlur(gray, 3)\n",
    "gray = cv2.threshold(gray, 0, 255, cv2.THRESH_BINARY + cv2.THRESH_OTSU)[1]\n",
    "\n",
    "\n",
    "result = reader.readtext(gray)\n",
    "\n",
    "# Extract the text from the result\n",
    "extracted_text = \"  \".join([res[1] for res in result])\n",
    "\n",
    "print(\"Extracted Text:\")\n",
    "print(extracted_text)\n",
    "\n",
    "\n",
    "fixed_width = 800\n",
    "fixed_height = 300\n",
    "\n",
    "# Resize image \n",
    "height, width = image.shape[:2]  \n",
    "aspect_ratio = width / height\n",
    "\n",
    "if aspect_ratio > 1:\n",
    "    new_width = fixed_width // 2\n",
    "    new_height = int(new_width / aspect_ratio)\n",
    "else:\n",
    "    new_height = fixed_height\n",
    "    new_width = int(new_height * aspect_ratio)\n",
    "\n",
    "resized_image = cv2.resize(image, (new_width, new_height))\n",
    "\n",
    "# Create a blank image for the text with the same size as the resized original image\n",
    "text_image = np.ones((new_height, new_width, 3), dtype=np.uint8) * 255  # White background\n",
    "\n",
    "# Define starting position for the text\n",
    "y0, dy = 30, 30\n",
    "for i, line in enumerate(extracted_text.split('\\n')):\n",
    "    y = y0 + i*dy\n",
    "    cv2.putText(text_image, line, (10, y), cv2.FONT_HERSHEY_SIMPLEX, 0.8, (0, 0, 0), 2)\n",
    "\n",
    "# Combine original image and text image horizontally\n",
    "final_image = np.hstack((resized_image, text_image))\n",
    "\n",
    "# Ensure the final image fits within the fixed window size\n",
    "final_image_resized = cv2.resize(final_image, (fixed_width, fixed_height), interpolation=cv2.INTER_AREA)\n",
    "\n",
    "# Save the image with extracted text overlay\n",
    "output_path = 'C:/Users/rihem/Desktop/handdistanceProject/images/scanned_with_text5.png'\n",
    "cv2.imwrite(output_path, final_image_resized)\n",
    "\n",
    "# Display the final image\n",
    "cv2.imshow('Original Image and Extracted Text', final_image_resized)\n",
    "cv2.waitKey(0)\n",
    "cv2.destroyAllWindows()\n",
    "\n"
   ]
  }
 ],
 "metadata": {
  "kernelspec": {
   "display_name": "Python 3",
   "language": "python",
   "name": "python3"
  },
  "language_info": {
   "codemirror_mode": {
    "name": "ipython",
    "version": 3
   },
   "file_extension": ".py",
   "mimetype": "text/x-python",
   "name": "python",
   "nbconvert_exporter": "python",
   "pygments_lexer": "ipython3",
   "version": "3.11.6"
  }
 },
 "nbformat": 4,
 "nbformat_minor": 2
}
